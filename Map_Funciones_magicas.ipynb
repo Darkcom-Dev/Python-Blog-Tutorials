{
 "cells": [
  {
   "cell_type": "markdown",
   "metadata": {},
   "source": [
    "# Métodos mágicos\n",
    "\n",
    "En python todo es un objeto, incluso los tipos de valores primitivos como los enteros, flotantes, booleanos y strings, y con cada uno de estos datos primitivos se pueden aplicar operaciones de suma y multiplicacion, por ejemplo yo puedo sumar `10 + 5.0` y el resultado se 15.0, al igual que yo puedo sumar dos cadenas de texto `'dos' + 'tres'` esto seria igual a `dostres`.\n",
    "\n",
    "Y que tiene esto que ver con los métodos mágicos, pues que puedo hacer uso de estas funciones magicas para que mis clases personalizadas adquieran efectos de suma o resta etc, tambien se puede hacer comparaciones entre objetos usando funciones como lt, gt, ge, eq\n",
    "\n",
    "Metodos Magicos = https://docs.python.org/3/library/operator.html\n",
    "\n",
    "```python\n",
    "__add__() = suma\n",
    "__sub__() = resta\n",
    "__mul__() = multiplicacion\n",
    "__truediv__() = division con decimales\n",
    "__floordiv__() = division entera\n",
    "\n",
    "__lt__() para a < b.\n",
    "__gt__() para a > b.\n",
    "__le__() para a <= b.\n",
    "__ge__() para a >= b.\n",
    "__ne__() para a != b.\n",
    "__eq__() para a == b.\n",
    "```\n"
   ]
  },
  {
   "cell_type": "markdown",
   "metadata": {},
   "source": [
    "# Map\n",
    "\n",
    "Map es una funcion que recibe dos listas y les aplica una funcion para retornar un resultado.\n",
    "\n"
   ]
  },
  {
   "cell_type": "code",
   "execution_count": null,
   "metadata": {},
   "outputs": [
    {
     "ename": "",
     "evalue": "",
     "output_type": "error",
     "traceback": [
      "\u001b[1;31mLa ejecución de celdas con '/bin/python3' requiere el paquete ipykernel.\n",
      "\u001b[1;31mRun the following command to install 'ipykernel' into the Python environment. \n",
      "\u001b[1;31mCommand: '/bin/python3 -m pip install ipykernel -U --user --force-reinstall'"
     ]
    }
   ],
   "source": [
    "\n",
    "\n",
    "def main(args):\n",
    "\tnumeros_A = [34,12,35,98,57,35,987,243,11]\n",
    "\tnumeros_B = [27,439,45,1,36,94,566,194,29,391]\n",
    "\tresultado = map(operator.__floordiv__,numeros_A, numeros_B)\n",
    "\tprint (*resultado)\n",
    "\treturn 0\n",
    "\n",
    "\n"
   ]
  },
  {
   "cell_type": "code",
   "execution_count": null,
   "metadata": {},
   "outputs": [],
   "source": [
    "\n",
    "import sys\n",
    "\n",
    "if __name__ == '__main__':\n",
    "\timport sys\n",
    "\timport operator\n",
    "\tsys.exit(main(sys.argv))\n",
    "\n"
   ]
  }
 ],
 "metadata": {
  "kernelspec": {
   "display_name": "Python 3",
   "language": "python",
   "name": "python3"
  },
  "language_info": {
   "name": "python",
   "version": "3.9.2"
  }
 },
 "nbformat": 4,
 "nbformat_minor": 2
}
