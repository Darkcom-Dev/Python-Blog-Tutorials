{
 "cells": [
  {
   "cell_type": "markdown",
   "metadata": {},
   "source": [
    "# 4. Principio de segregación de interfaces\n",
    "\n",
    "Cree interfaces de grano fino que sean específicas del cliente. Los clientes no deberían verse obligados a depender de interfaces que no utilicen. Este principio se ocupa de las desventajas de implementar grandes interfaces.\n",
    "\n",
    "Para ilustrar esto completamente, iremos con un ejemplo clásico porque es muy significativo y fácilmente comprensible. El ejemplo clásico"
   ]
  },
  {
   "cell_type": "code",
   "execution_count": 2,
   "metadata": {},
   "outputs": [],
   "source": [
    "\n",
    "# =====================================\t#\n",
    "#\t\t\t\tClassic example\t\t\t#\n",
    "# =====================================\t#\n",
    "\n",
    "class IShape:\n",
    "\t\"\"\" Class doc \"\"\"\n",
    "\t\n",
    "\tdef draw (self):\n",
    "\t\t\"\"\" Class initialiser \"\"\"\n",
    "\t\traise NotImplementedError\n",
    "\t\t\n",
    "class Circle (IShape):\n",
    "\t\t\"\"\" Function doc \"\"\"\n",
    "\t\tdef draw (self):\n",
    "\t\t\t\"\"\" Function doc \"\"\"\n",
    "\t\t\tpass\n",
    "\t\n",
    "class Square(IShape):\n",
    "\t\"\"\" Class doc \"\"\"\n",
    "\t\n",
    "\tdef draw (self):\n",
    "\t\t\"\"\" Class initialiser \"\"\"\n",
    "\t\tpass\n",
    "\t\t\n",
    "class Rectangle(IShape):\n",
    "\t\"\"\" Class doc \"\"\"\n",
    "\t\n",
    "\tdef draw (self):\n",
    "\t\t\"\"\" Class initialiser \"\"\"\n",
    "\t\tpass\n",
    "\t\t\n"
   ]
  },
  {
   "cell_type": "markdown",
   "metadata": {},
   "source": [
    "Otro buen truco es que en nuestra lógica empresarial, una sola clase puede implementar varias interfaces si es necesario. Por lo tanto, podemos proporcionar una implementación única para todos los métodos comunes entre las interfaces. \n",
    "\n",
    "Las interfaces segregadas también nos obligarán a pensar en nuestro código más desde el punto de vista del cliente, lo que a su vez conducirá a un acoplamiento flojo y pruebas fáciles. Por lo tanto, no solo hemos mejorado nuestro código para nuestros clientes, también lo hemos hecho más fácil de entender, probar e implementar."
   ]
  }
 ],
 "metadata": {
  "kernelspec": {
   "display_name": "Python 3",
   "language": "python",
   "name": "python3"
  },
  "language_info": {
   "codemirror_mode": {
    "name": "ipython",
    "version": 3
   },
   "file_extension": ".py",
   "mimetype": "text/x-python",
   "name": "python",
   "nbconvert_exporter": "python",
   "pygments_lexer": "ipython3",
   "version": "3.9.2"
  }
 },
 "nbformat": 4,
 "nbformat_minor": 2
}
