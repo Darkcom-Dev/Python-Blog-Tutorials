{
 "cells": [
  {
   "cell_type": "markdown",
   "metadata": {},
   "source": [
    "# 2. Principio abierto-cerrado\n",
    "\n",
    "Las entidades de software (clases, módulos, funciones) deben estar abiertas para extensión, no modificación.\n",
    "\n",
    "Imaginemos que tienes una tienda y le das un descuento del 20% a tus clientes favoritos usando esta clase: Cuando decides ofrecer el doble del 20% de descuento a los clientes VIP. Puede modificar la clase de esta manera:"
   ]
  },
  {
   "cell_type": "code",
   "execution_count": null,
   "metadata": {},
   "outputs": [],
   "source": [
    "class Discount:\n",
    "  def __init__(self, customer, price):\n",
    "      self.customer = customer\n",
    "      self.price = price\n",
    "  def give_discount(self):\n",
    "      if self.customer == 'fav':\n",
    "          return self.price * 0.2\n",
    "      if self.customer == 'vip':\n",
    "          return self.price * 0.4"
   ]
  },
  {
   "cell_type": "markdown",
   "metadata": {},
   "source": [
    "No, esto no cumple con el principio OCP. OCP lo prohíbe. Si queremos dar un nuevo porcentaje de descuento tal vez, a un tipo diferente de clientes, verá que se agregará una nueva lógica. Para que siga el principio de OCP, agregaremos una nueva clase que extenderá el descuento. En esta nueva clase, implementaríamos su nuevo comportamiento:"
   ]
  },
  {
   "cell_type": "code",
   "execution_count": null,
   "metadata": {},
   "outputs": [],
   "source": [
    "class Discount:\n",
    "    def __init__(self, customer, price):\n",
    "      self.customer = customer\n",
    "      self.price = price\n",
    "    def get_discount(self):\n",
    "      return self.price * 0.2\n",
    "class VIPDiscount(Discount):\n",
    "    def get_discount(self):\n",
    "      return super().get_discount() * 2"
   ]
  },
  {
   "cell_type": "markdown",
   "metadata": {},
   "source": [
    "Si decide un 80% de descuento para clientes super VIP, debería ser así:\n",
    "\n",
    "Ampliación sin modificación"
   ]
  },
  {
   "cell_type": "code",
   "execution_count": null,
   "metadata": {},
   "outputs": [],
   "source": [
    "class SuperVIPDiscount(VIPDiscount):\n",
    "    def get_discount(self):\n",
    "      return super().get_discount() * 2"
   ]
  }
 ],
 "metadata": {
  "language_info": {
   "name": "python"
  }
 },
 "nbformat": 4,
 "nbformat_minor": 2
}
