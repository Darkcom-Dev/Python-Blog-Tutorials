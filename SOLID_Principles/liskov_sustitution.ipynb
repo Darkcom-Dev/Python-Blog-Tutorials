{
 "cells": [
  {
   "cell_type": "markdown",
   "metadata": {},
   "source": [
    "# 3. Principio de sustitución de Liskov\n",
    "\n",
    "La idea principal detrás del principio de subtitulación de Liskov es que, para cualquier clase, un cliente debería poder usar cualquiera de sus subtipos de manera indistinguible, sin siquiera darse cuenta y, por lo tanto, sin comprometer el comportamiento esperado en tiempo de ejecución. \n",
    "\n",
    "Esto significa que los clientes están completamente aislados y desconocen los cambios en la jerarquía de clases.\n",
    "\n",
    "## Más formalmente:\n",
    "Sea q (x) una propiedad demostrable sobre objetos de x de tipo T.Entonces q (y) debería ser demostrable para objetos y de tipo S donde S es un subtipo de T.\n",
    "\n",
    "En términos más simples, significa que una subclase, hijo o especialización de un objeto o clase debe ser adecuada para su padre o superclase."
   ]
  },
  {
   "cell_type": "code",
   "execution_count": 21,
   "metadata": {},
   "outputs": [],
   "source": [
    "class Piece():\n",
    "    def move(self, position:int):\n",
    "        pass\n",
    "\n",
    "class ChessBoard():\n",
    "    pass\n",
    "\n",
    "class User():\n",
    "    def __init__(self, color, board):\n",
    "        self.color = color\n",
    "        self.board = board\n",
    "        self.pieces = ['rook', 'knight', 'bishop', 'queen', 'king', 'bishop', 'knight', 'rook']\n",
    "\n",
    "    def move(self, piece:Piece, position:int = 0):\n",
    "        pass\n",
    "\n",
    "    def create_pieces(self):\n",
    "        pass\n",
    "    \n",
    "class Helper():\n",
    "    def __init__(self):\n",
    "        pass\n",
    "    \n",
    "    def getHorse(self, user:User, position:int):\n",
    "        pass\n",
    "\n",
    "helper = Helper()"
   ]
  },
  {
   "cell_type": "code",
   "execution_count": 22,
   "metadata": {},
   "outputs": [],
   "source": [
    "class User():\n",
    "  def __init__(self, color, board):\n",
    "    self.create_pieces()\n",
    "    self.color = color\n",
    "    self.board = board\n",
    "\n",
    "  def move(self, piece:Piece, position:int = 0):\n",
    "      piece.move(position)\n",
    "      self.chessmate_check()\n",
    "\n",
    "  def chessmate_check(self):\n",
    "      pass\n",
    "  \n",
    "  def create_pieces(self):\n",
    "      pass\n",
    "\n",
    "  board = ChessBoard()\n",
    "  user_white = User(\"white\", board)\n",
    "  user_black = User(\"black\", board)\n",
    "  pieces = user_white.pieces\n",
    "  horse = helper.getHorse(user_white, 1)\n",
    "  \n",
    "  user_white.move(horse)\n",
    "\t\n"
   ]
  },
  {
   "cell_type": "markdown",
   "metadata": {},
   "source": [
    "Comentarios sobre el LSP El LSP es fundamental para un buen diseño de software orientado a objetos porque enfatiza uno de sus rasgos centrales: el polimorfismo. Se trata de crear jerarquías correctas para que las clases derivadas de una base sean polimórficas a lo largo de la principal, con respecto a los métodos en su interfaz. \n",
    "\n",
    "También es interesante notar cómo este principio se relaciona con el anterior: si intentamos extender una clase con una nueva que es incompatible, fallará, el contrato con el cliente se romperá y, como resultado, dicha extensión. no será posible (o, para hacerlo posible, tendríamos que romper el otro extremo del principio y modificar el código en el cliente que debería estar cerrado para su modificación, lo cual es completamente indeseable e inaceptable).\n",
    "\n",
    "Pensar cuidadosamente en las nuevas clases de la forma que sugiere LSP nos ayuda a extender la jerarquía correctamente. Entonces podríamos decir que LSP contribuye al OCP.\n",
    "\n",
    "\n",
    "\n",
    "https://ichi.pro/es/principios-solid-explicados-en-python-con-ejemplos-56291217871103\n",
    "\"\"\"\n"
   ]
  }
 ],
 "metadata": {
  "kernelspec": {
   "display_name": "Python 3",
   "language": "python",
   "name": "python3"
  },
  "language_info": {
   "codemirror_mode": {
    "name": "ipython",
    "version": 3
   },
   "file_extension": ".py",
   "mimetype": "text/x-python",
   "name": "python",
   "nbconvert_exporter": "python",
   "pygments_lexer": "ipython3",
   "version": "3.9.2"
  }
 },
 "nbformat": 4,
 "nbformat_minor": 2
}
