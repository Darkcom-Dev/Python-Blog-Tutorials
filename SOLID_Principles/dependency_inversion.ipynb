{
 "cells": [
  {
   "cell_type": "markdown",
   "metadata": {},
   "source": [
    "# 5. Principio de inversión de la dependencia\n",
    "\n",
    "La dependencia debe estar en abstracciones, no en concreciones. Los módulos de alto nivel no deben depender de módulos de bajo nivel. \n",
    "\n",
    "Tanto las clases de nivel bajo como las de alto nivel deberían depender de las mismas abstracciones. \n",
    "\n",
    "Las abstracciones no deberían depender de los detalles. Los detalles deben depender de abstracciones.\n"
   ]
  },
  {
   "cell_type": "code",
   "execution_count": 4,
   "metadata": {},
   "outputs": [],
   "source": [
    "\n",
    "class Connector():\n",
    "\tdef connect (self):\n",
    "\t\t\"\"\" Function doc \"\"\"\n",
    "\t\tpass\n",
    "\n",
    "class AuthenticationForUser():\n",
    "\tdef __init__ (self, connector: Connector):\n",
    "\t\t\"\"\" Function doc \"\"\"\n",
    "\t\tself.connection = connector.connect()\n",
    "\t\t\n",
    "\tdef authenticate (self, credentials):\n",
    "\t\t\"\"\" Function doc \"\"\"\n",
    "\t\tpass\n",
    "\t\t\n",
    "\tdef is_authenticated (self):\n",
    "\t\t\"\"\" Function doc \"\"\"\n",
    "\t\tpass\n",
    "\t\n",
    "\tdef last_login (self):\n",
    "\t\t\"\"\" Function doc \"\"\"\n",
    "\t\tpass\n",
    "\t\t\n",
    "class AnonymousAuth(AuthenticationForUser):\n",
    "\tpass\n",
    "\t\t\n",
    "class GithubAuth(AuthenticationForUser):\n",
    "\t\"\"\" Class doc \"\"\"\n",
    "\t\n",
    "\tdef last_login (self):\n",
    "\t\t\"\"\" Class initialiser \"\"\"\n",
    "\t\tpass\n",
    "\t\t\n",
    "class FacebookAuth(AuthenticationForUser):\n",
    "\t\"\"\" Class doc \"\"\"\n",
    "\tpass\n",
    "\t\n",
    "class Permissions():\n",
    "\tdef __init__(self, auth: AuthenticationForUser):\n",
    "\t\tself.auth = auth\n",
    "\t\t\n",
    "\tdef has_permissions (_):\n",
    "\t\t\"\"\" Function doc \"\"\"\n",
    "\t\tpass\n",
    "\t\n",
    "class IsLoggedInPermissions (Permissions):\n",
    "\t\"\"\" Class doc \"\"\"\n",
    "\t\n",
    "\tdef last_login ():\n",
    "\t\t\"\"\" Class initialiser \"\"\"\n",
    "\t\tpass\n",
    "\t\n"
   ]
  },
  {
   "cell_type": "markdown",
   "metadata": {},
   "source": [
    "## ¿Cuando usar?\n",
    "\n",
    "Llega un punto en el desarrollo de software en el que nuestras aplicaciones están compuestas en gran parte por módulos.\n",
    "\n",
    "Cuando esto sucede, debemos aclarar las cosas usando la inyección de dependencia.\n",
    "\n",
    "Componentes de alto nivel dependiendo de los componentes de bajo nivel a trabajar.\n",
    "Para crear un comportamiento específico, se pueden utilizar técnicas de herencia o interfaz."
   ]
  }
 ],
 "metadata": {
  "kernelspec": {
   "display_name": "Python 3",
   "language": "python",
   "name": "python3"
  },
  "language_info": {
   "codemirror_mode": {
    "name": "ipython",
    "version": 3
   },
   "file_extension": ".py",
   "mimetype": "text/x-python",
   "name": "python",
   "nbconvert_exporter": "python",
   "pygments_lexer": "ipython3",
   "version": "3.9.2"
  }
 },
 "nbformat": 4,
 "nbformat_minor": 2
}
