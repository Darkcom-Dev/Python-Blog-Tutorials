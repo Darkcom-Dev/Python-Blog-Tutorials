{
 "cells": [
  {
   "cell_type": "markdown",
   "metadata": {},
   "source": [
    "# 1. Principio de responsabilidad única\n",
    "\n",
    "El principio de responsabilidad única requiere que una clase solo tenga un trabajo. Entonces, si una clase tiene más de una responsabilidad, se acopla. Un cambio en una responsabilidad da como resultado la modificación de la otra responsabilidad.\n",
    "\n"
   ]
  },
  {
   "cell_type": "code",
   "execution_count": 4,
   "metadata": {},
   "outputs": [],
   "source": [
    "# Esto es solo para rellenar el faltante del código\n",
    "\n",
    "class User:\n",
    "    def __init__(self, name: str):\n",
    "        self.name = name"
   ]
  },
  {
   "cell_type": "code",
   "execution_count": 5,
   "metadata": {},
   "outputs": [],
   "source": [
    "#Below is Given a class which has two responsibilities \n",
    "class  User:\n",
    "    def __init__(self, name: str):\n",
    "        self.name = name\n",
    "    \n",
    "    def get_name(self) -> str:\n",
    "        pass\n",
    "\n",
    "    def save(self, user: User):\n",
    "        pass"
   ]
  },
  {
   "cell_type": "markdown",
   "metadata": {},
   "source": [
    "Tenemos una clase de usuario que es responsable tanto de las propiedades del usuario como de la gestión de la base de datos de usuarios. Si la aplicación cambia de manera que afecte las funciones de administración de la base de datos. Las clases que hacen uso de las propiedades del usuario deberán tocarse y recompilarse para compensar los nuevos cambios. Es como un efecto dominó, toca una carta y afecta a todas las demás cartas de la línea.\n",
    "\n",
    "Entonces simplemente dividimos la clase, creamos otra clase que manejará la única responsabilidad de almacenar un usuario en una base de datos:"
   ]
  },
  {
   "cell_type": "code",
   "execution_count": 3,
   "metadata": {},
   "outputs": [],
   "source": [
    "class User:\n",
    "    def __init__(self, name: str):\n",
    "            self.name = name\n",
    "    \n",
    "    def get_name(self):\n",
    "        pass\n",
    "\n",
    "\n",
    "class UserDB:\n",
    "    def get_user(self, id) -> User:\n",
    "        pass\n",
    "\n",
    "    def save(self, user: User):\n",
    "        pass"
   ]
  },
  {
   "cell_type": "markdown",
   "metadata": {},
   "source": [
    "Una solución común a este dilema es aplicar el patrón Façade . Para una introducción al patrón de fachada, puede leer más . La clase de usuario será la Fachada para la gestión de la base de datos de usuarios y la gestión de propiedades de los usuarios."
   ]
  }
 ],
 "metadata": {
  "kernelspec": {
   "display_name": "Python 3",
   "language": "python",
   "name": "python3"
  },
  "language_info": {
   "codemirror_mode": {
    "name": "ipython",
    "version": 3
   },
   "file_extension": ".py",
   "mimetype": "text/x-python",
   "name": "python",
   "nbconvert_exporter": "python",
   "pygments_lexer": "ipython3",
   "version": "3.9.2"
  }
 },
 "nbformat": 4,
 "nbformat_minor": 2
}
